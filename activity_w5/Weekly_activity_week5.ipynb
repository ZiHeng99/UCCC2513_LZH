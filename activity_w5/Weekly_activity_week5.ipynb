{
 "cells": [
  {
   "cell_type": "markdown",
   "id": "8be183e3",
   "metadata": {},
   "source": [
    "# Setup"
   ]
  },
  {
   "cell_type": "code",
   "execution_count": 1,
   "id": "cb7d6c51",
   "metadata": {},
   "outputs": [
    {
     "data": {
      "text/plain": [
       "True"
      ]
     },
     "execution_count": 1,
     "metadata": {},
     "output_type": "execute_result"
    }
   ],
   "source": [
    "import sys\n",
    "# Python 3.7 is required\n",
    "assert sys.version_info >= (3,7)\n",
    "\n",
    "import cv2 as cv\n",
    "import numpy as np\n",
    "\n",
    "# Make sure that optimization is enabled\n",
    "if not cv.useOptimized():\n",
    "    cv.setUseOptimized(True)\n",
    "\n",
    "cv.useOptimized()"
   ]
  },
  {
   "cell_type": "markdown",
   "id": "46cd25fb",
   "metadata": {},
   "source": [
    "### 1) Convert the code chunk found under section Divide an image into smaller patches using cropping into a function with the following signature:\n",
    "crop_grid(img, num_horizontal_grid, num_vertical_grid, line_color)"
   ]
  },
  {
   "cell_type": "code",
   "execution_count": 2,
   "id": "ac9bb9c3",
   "metadata": {},
   "outputs": [],
   "source": [
    "img = cv.imread('dog.jfif')\n",
    "img_copy = img.copy()\n",
    "\n",
    "def crop_grid(img, num_horizontal_grid, num_vertical_grid, line_color):\n",
    "    # img is the source image\n",
    "    # num_horizontal_grid and num_vertical_grid are the number of patches along x and y axes.\n",
    "    # line_color is the color of the grid line.\n",
    "    height, width = img.shape[:2]\n",
    "    num_horizontal_patches = num_horizontal_grid\n",
    "    num_vertical_patches = num_vertical_grid\n",
    "    \n",
    "    # M and N are basically number of pixels per patch\n",
    "    M, N = int(height/num_horizontal_patches), int(width/num_vertical_patches)\n",
    "\n",
    "    x1, y1 = 0, 0\n",
    "    \n",
    "    for y in range(0, height, M):\n",
    "        for x in range(0, width, N):\n",
    "#         if (height - y) < M or (width - x) < N:\n",
    "#             break\n",
    "            \n",
    "            y1 = y + M    # lower right coordinate that will be used to construct rectangle\n",
    "            x1 = x + N\n",
    "        \n",
    "            # Check whether patch lower right coordinate exceeds image height and width\n",
    "            if x1 >= width and y1 >= height:\n",
    "                x1 = width - 1\n",
    "                y1 = height - 1\n",
    "                cv.rectangle(img_copy, (x, y), (x1, y1), line_color, 1)\n",
    "                \n",
    "            # When patch lower right y-coordinate exceeds patch height\n",
    "            elif y1 >= height:\n",
    "                y1 = height - 1\n",
    "                cv.rectangle(img_copy, (x, y), (x1, y1), line_color, 1)\n",
    "            \n",
    "            # When patch lower right x-coordinate exceeds patch width\n",
    "            elif x1 >= width:\n",
    "                x1 = width - 1\n",
    "                cv.rectangle(img_copy, (x, y), (x1, y1), line_color, 1)\n",
    "        \n",
    "            else:\n",
    "                cv.rectangle(img_copy, (x, y), (x1, y1), line_color, 1)\n",
    "\n",
    "\n",
    "crop_grid(img, 2, 3, (0, 255, 0))\n",
    "cv.imshow('patched image', img_copy)\n",
    "cv.waitKey(0)\n",
    "cv.destroyAllWindows()"
   ]
  },
  {
   "cell_type": "markdown",
   "id": "862a08ff",
   "metadata": {},
   "source": [
    "### 2) Display image sequences of smooth transition of two images with different values of  𝛼 . Refer to code in section \"Image blending\". Use \"lena.jfif\" and *\"coins.jfif\"* as the base images."
   ]
  },
  {
   "cell_type": "code",
   "execution_count": 3,
   "id": "6befc06f",
   "metadata": {},
   "outputs": [],
   "source": [
    "img1 = cv.imread('lena.jfif')\n",
    "img2 = cv.imread('coins.jfif')\n",
    "\n",
    "# Resize img2\n",
    "new_shape = img1.shape[:2]\n",
    "img2 = cv.resize(img2, new_shape)\n",
    "\n",
    "dst = cv.addWeighted(img1, 0.35, img2, 0.65, 0)\n",
    "\n",
    "cv.imshow('image1', img1)\n",
    "cv.imshow('reshape_image2', img2)\n",
    "cv.imshow('blend_image', dst)\n",
    "cv.waitKey(0)\n",
    "cv.destroyAllWindows()"
   ]
  },
  {
   "cell_type": "markdown",
   "id": "43dc20be",
   "metadata": {},
   "source": [
    "### 3) Rotate image by 45 degrees without cropping the sides of the image. (Hint: There are 2 strategies to tackle these problems). Use _\"lena.jfif\"_ as the input image.\n",
    "    - Use external libraries `imutils`.  \n",
    "    - Modify the transformation matrix."
   ]
  },
  {
   "cell_type": "code",
   "execution_count": 4,
   "id": "c2bddcf3",
   "metadata": {},
   "outputs": [
    {
     "name": "stdout",
     "output_type": "stream",
     "text": [
      "Requirement already satisfied: imutils in c:\\users\\limzh\\anaconda3\\lib\\site-packages (0.5.4)\n"
     ]
    }
   ],
   "source": [
    "!pip install imutils"
   ]
  },
  {
   "cell_type": "code",
   "execution_count": 5,
   "id": "6ea2f66f",
   "metadata": {},
   "outputs": [],
   "source": [
    "import imutils as im\n",
    "img = cv.imread('lena.jfif')\n",
    "\n",
    "rotate = im.rotate_bound(img, -45)\n",
    "\n",
    "cv.imshow('rotated_image', rotate)\n",
    "cv.waitKey(0)\n",
    "cv.destroyAllWindows()"
   ]
  },
  {
   "cell_type": "markdown",
   "id": "06e67b1e",
   "metadata": {},
   "source": [
    "### 4) Use the images with titles: \"flower.jfif\" and *\"native-bee.png\"*. I want to put flower above an image. If I add two images, it will change color. If I blend it, I get a transparent effect. But I want it to be opaque. If it was a rectangular region, we could use the ROI as we did in the previous section. But flower is not a rectangular region. This is where bitwise operations, like AND, OR, NOT and XOR really come in handy. The associated functions are cv.bitwise_and(), cv.bitwise_or() and cv.bitwise_not(). You need to use cv.threshold function to segment the flower."
   ]
  },
  {
   "cell_type": "code",
   "execution_count": 6,
   "id": "a06ed879",
   "metadata": {},
   "outputs": [],
   "source": [
    "img1= cv.imread('flower.jfif')\n",
    "img2 = cv.imread('native-bee.png')\n",
    "\n",
    "#resize image\n",
    "img1 = cv.resize(img1, (500, 500), interpolation = cv.INTER_CUBIC)\n",
    "\n",
    "#transformation\n",
    "rows, cols = img1.shape[:2]\n",
    "M = np.float32([[0.5, 0, 15], [0, 0.5, -35]])\n",
    "dst = cv.warpAffine(img1, M, (cols, rows))\n",
    "\n",
    "#conver to grayscale\n",
    "img1_gray = cv.cvtColor(dst, cv.COLOR_BGR2GRAY)\n",
    "\n",
    "#segment the flower\n",
    "ret, mask = cv.threshold(img1_gray, 80, 255, cv.THRESH_BINARY_INV)\n",
    "mask_inv = cv.bitwise_not(mask)\n",
    "\n",
    "#apply mask\n",
    "bee = cv.bitwise_and(img2, img2, mask = mask)\n",
    "flower = cv.bitwise_and(dst, dst, mask = mask_inv)\n",
    "result = cv.add(bee, flower)\n",
    "\n",
    "#cv.imshow('flower', result)\n",
    "cv.imshow('flower_bee', result)\n",
    "cv.waitKey(0)\n",
    "cv.destroyAllWindows()"
   ]
  }
 ],
 "metadata": {
  "kernelspec": {
   "display_name": "Python 3 (ipykernel)",
   "language": "python",
   "name": "python3"
  },
  "language_info": {
   "codemirror_mode": {
    "name": "ipython",
    "version": 3
   },
   "file_extension": ".py",
   "mimetype": "text/x-python",
   "name": "python",
   "nbconvert_exporter": "python",
   "pygments_lexer": "ipython3",
   "version": "3.9.12"
  }
 },
 "nbformat": 4,
 "nbformat_minor": 5
}
