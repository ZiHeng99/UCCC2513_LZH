{
 "cells": [
  {
   "cell_type": "markdown",
   "id": "0fc181b1",
   "metadata": {},
   "source": [
    "## Setup"
   ]
  },
  {
   "cell_type": "code",
   "execution_count": 1,
   "id": "bb9905b3",
   "metadata": {},
   "outputs": [
    {
     "data": {
      "text/plain": [
       "True"
      ]
     },
     "execution_count": 1,
     "metadata": {},
     "output_type": "execute_result"
    }
   ],
   "source": [
    "import sys\n",
    "# Python 3.7 is required\n",
    "assert sys.version_info >= (3,7)\n",
    "\n",
    "import cv2 as cv\n",
    "import numpy as np\n",
    "\n",
    "# For reproducibility,\n",
    "np.random.seed(99)\n",
    "\n",
    "# Make sure that optimization is enabled\n",
    "if not cv.useOptimized():\n",
    "    cv.setUseOptimized(True)\n",
    "\n",
    "cv.useOptimized()"
   ]
  },
  {
   "cell_type": "markdown",
   "id": "449a340a",
   "metadata": {},
   "source": [
    "**1)** Suggest two ways and write codes to display two images simultaneously. You can use any image snapped from your handphone, downloaded from internet or images from week 4 materials on MS teams. The two images are a color image and its corresponding grayscale image."
   ]
  },
  {
   "cell_type": "markdown",
   "id": "602fe551",
   "metadata": {},
   "source": [
    "# Method 1"
   ]
  },
  {
   "cell_type": "code",
   "execution_count": 2,
   "id": "753fb86d",
   "metadata": {},
   "outputs": [],
   "source": [
    "img1 = cv.imread('lena.png')\n",
    "gray1 = cv.cvtColor(img1, cv.COLOR_BGR2GRAY)\n",
    "\n",
    "cv.imshow('original',img1)\n",
    "cv.imshow('gray', gray1)\n",
    "cv.waitKey(0)\n",
    "cv.destroyAllWindows()"
   ]
  },
  {
   "cell_type": "markdown",
   "id": "7013c10a",
   "metadata": {},
   "source": [
    "# Method 2"
   ]
  },
  {
   "cell_type": "code",
   "execution_count": 3,
   "id": "245f6986",
   "metadata": {},
   "outputs": [],
   "source": [
    "img2 = cv.imread('dog.jfif')\n",
    "img2_grayscale = cv.imread('dog.jfif', 0)\n",
    "\n",
    "cv.imshow('original',img2)\n",
    "cv.imshow('gray', img2_grayscale)\n",
    "cv.waitKey(0)\n",
    "cv.destroyAllWindows()"
   ]
  },
  {
   "cell_type": "markdown",
   "id": "16ada060",
   "metadata": {},
   "source": [
    "**2)** Write codes that performs the following:\n",
    "- Load the video “img_pexels.mp4” into the Python environment and display the videos with smaller frames. You can specify an arbitrary frame rate.\n",
    "- Save it as a separate files: “smaller_img_pexels.avi”"
   ]
  },
  {
   "cell_type": "code",
   "execution_count": 4,
   "id": "222dfb87",
   "metadata": {},
   "outputs": [],
   "source": [
    "# Create a VideoCapture object\n",
    "cap = cv.VideoCapture('img_pexels.mp4')\n",
    "\n",
    "#Resize the frame\n",
    "cv.namedWindow('frame',0)\n",
    "cv.resizeWindow('frame', 300, 300)\n",
    "    \n",
    "# Define the codec and create VideoWriter object\n",
    "fourcc = cv.VideoWriter_fourcc(*'XVID')\n",
    "fps = 30.0\n",
    "size = (300, 300)\n",
    "out = cv.VideoWriter('smaller_img_pexels.avi', fourcc, fps, size)\n",
    "\n",
    "# Check if the object has been created successfully\n",
    "if not cap.isOpened():\n",
    "    print(\"Unable to create video\")\n",
    "\n",
    "# Read until the video is completed.\n",
    "while cap.isOpened():\n",
    "    ret, frame = cap.read()\n",
    "    \n",
    "    # if frame is read then ret is True\n",
    "    if not ret:\n",
    "        print(\"Can't receive frame.\")\n",
    "        break\n",
    "      \n",
    "    #create vidout funct with res=300x300\n",
    "    vidout = cv.resize(frame,(300,300)) \n",
    "    #write frame of vidout function\n",
    "    out.write(vidout) \n",
    "    \n",
    "    cv.imshow('frame', frame)\n",
    "    # Press Esc key to exit (27 is ASCII code for Esc)\n",
    "    if cv.waitKey(1) & 0xFF == 27:\n",
    "        break\n",
    "    \n",
    "# destroy the constructor\n",
    "cap.release()\n",
    "out.release()\n",
    "cv.destroyAllWindows()"
   ]
  },
  {
   "cell_type": "markdown",
   "id": "ccf3cd5a",
   "metadata": {},
   "source": [
    "**3)** Create a random noise color and grayscale image. You can set a custom width and height. (Hint: use Numpy functions like np.array and np.reshape.)"
   ]
  },
  {
   "cell_type": "code",
   "execution_count": 5,
   "id": "4917804c",
   "metadata": {},
   "outputs": [],
   "source": [
    "from skimage.util import random_noise\n",
    "\n",
    "#Noise color image\n",
    "img = cv.imread('lena.png')\n",
    "#Create random noise\n",
    "noise_img = random_noise(img, mode='s&p', amount = 0.3)\n",
    "noise_img = np.array(255*noise_img, dtype = 'uint8')\n",
    "\n",
    "#Noise grayscale image\n",
    "img_grayscale = cv.imread('lena.png', 0)\n",
    "##Create random noise\n",
    "noise_grayscale = random_noise(img_grayscale, mode='s&p', amount = 0.3)\n",
    "noise_grayscale = np.array(255*noise_grayscale, dtype = 'uint8')\n",
    "\n",
    "\n",
    "cv.imshow('color image', noise_img)\n",
    "cv.imshow('grayscale image', noise_grayscale)\n",
    "cv.waitKey(0)\n",
    "cv.destroyAllWindows()"
   ]
  },
  {
   "cell_type": "markdown",
   "id": "55330cea",
   "metadata": {},
   "source": [
    "**4)** Extract the region of interest (flower) from the 'flower.jfif'."
   ]
  },
  {
   "cell_type": "code",
   "execution_count": 6,
   "id": "687b67cb",
   "metadata": {},
   "outputs": [],
   "source": [
    "img = cv.imread('flower.jfif')\n",
    "\n",
    "#Create ROI\n",
    "roi = cv.selectROI(img)\n",
    "\n",
    "#Crop the image\n",
    "crop_img = img[int(roi[1]):int(roi[1] + roi[3]), int(roi[0]):int(roi[0] + roi[2])]\n",
    "\n",
    "#Another method\n",
    "#crop_img = img[36:124,90:176]\n",
    "\n",
    "cv.imshow('flower', crop_img)\n",
    "#Place the image at the right bottom corner\n",
    "cv.moveWindow('flower', 1200, 600)\n",
    "\n",
    "cv.waitKey(0)\n",
    "cv.destroyAllWindows()"
   ]
  },
  {
   "cell_type": "markdown",
   "id": "7992c58e",
   "metadata": {},
   "source": [
    "**5)** Enlarge the image \"dog.jfif\" by using different techniques: 1) Linear interpolation, 2) Cubic interpolation and 3) nearest neighbor interpolation. Comment on the upscaled of all the outputs."
   ]
  },
  {
   "cell_type": "code",
   "execution_count": 7,
   "id": "2ce0ad9f",
   "metadata": {},
   "outputs": [],
   "source": [
    "img = cv.imread('dog.jfif')\n",
    "new_width = 600\n",
    "new_height = 336\n",
    "\n",
    "#1) Linear interpolation\n",
    "img_resize = cv.resize(img, (new_width, new_height), interpolation = cv.INTER_LINEAR)\n",
    "#2) Cubic interpolation\n",
    "img_resize2 = cv.resize(img, (new_width, new_height), interpolation = cv.INTER_CUBIC)\n",
    "#3) Nearest neighbor interpolation\n",
    "img_resize3 = cv.resize(img, (new_width, new_height), interpolation = cv.INTER_NEAREST)\n",
    "\n",
    "\"\"\" \n",
    "1) Linear interpolation\n",
    "-more processing time\n",
    "-result image smoother than nearest neighbor interpolation\n",
    "\n",
    "2) Cubic interpolation\n",
    "-the image shaper than other 2 methods\n",
    "-good quality of output\n",
    "\n",
    "3) Nearest neighbor interpolation\n",
    "-shortest processing time\n",
    "-make each pixel bigger\n",
    "\"\"\"\n",
    "\n",
    "cv.imshow('Linear interpolation image', img_resize)\n",
    "cv.imshow('Cubic interpolation image', img_resize2)\n",
    "cv.imshow('Nearest neighbor interpolation image', img_resize3)\n",
    "cv.waitKey(0)\n",
    "cv.destroyAllWindows()"
   ]
  }
 ],
 "metadata": {
  "kernelspec": {
   "display_name": "Python 3 (ipykernel)",
   "language": "python",
   "name": "python3"
  },
  "language_info": {
   "codemirror_mode": {
    "name": "ipython",
    "version": 3
   },
   "file_extension": ".py",
   "mimetype": "text/x-python",
   "name": "python",
   "nbconvert_exporter": "python",
   "pygments_lexer": "ipython3",
   "version": "3.9.12"
  }
 },
 "nbformat": 4,
 "nbformat_minor": 5
}
