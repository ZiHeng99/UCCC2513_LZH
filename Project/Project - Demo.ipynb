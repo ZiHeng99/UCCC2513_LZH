{
 "cells": [
  {
   "cell_type": "markdown",
   "id": "d16dedfb",
   "metadata": {},
   "source": [
    "# Traffic Sign Segmentation"
   ]
  },
  {
   "cell_type": "markdown",
   "id": "7a3050cf",
   "metadata": {},
   "source": [
    "**Setup**"
   ]
  },
  {
   "cell_type": "code",
   "execution_count": 1,
   "id": "a114d3d6",
   "metadata": {},
   "outputs": [
    {
     "data": {
      "text/plain": [
       "True"
      ]
     },
     "execution_count": 1,
     "metadata": {},
     "output_type": "execute_result"
    }
   ],
   "source": [
    "#setup\n",
    "import sys\n",
    "# Python 3.7 is required\n",
    "assert sys.version_info >= (3,7)\n",
    "\n",
    "import os\n",
    "import cv2 as cv\n",
    "import numpy as np\n",
    "import matplotlib.pyplot as plt\n",
    "\n",
    "# Make sure that optimization is enabled\n",
    "if not cv.useOptimized():\n",
    "    cv.setUseOptimized(True)\n",
    "\n",
    "cv.useOptimized()"
   ]
  },
  {
   "cell_type": "markdown",
   "id": "bfb3473c",
   "metadata": {},
   "source": [
    "## Function"
   ]
  },
  {
   "cell_type": "markdown",
   "id": "80f4feb4",
   "metadata": {},
   "source": [
    "### 1) Image Preprocessing\n",
    "\n",
    "- **Resize image**\n",
    "\n",
    "- **Gaussian Filtering**  \n",
    " 1) To remove noise"
   ]
  },
  {
   "cell_type": "code",
   "execution_count": 2,
   "id": "c14accf7",
   "metadata": {},
   "outputs": [],
   "source": [
    "def img_preprocessing (image, image_size):\n",
    "    # Variable\n",
    "    size = (image_size, image_size)\n",
    "    kernel_size = 7\n",
    "    \n",
    "    # Resize image\n",
    "    img = cv.resize(image, size, interpolation = cv.INTER_CUBIC)\n",
    "    img_copy = img.copy()\n",
    "    \n",
    "    # Gaussian filter\n",
    "    img_gaussian = cv.GaussianBlur(img, (kernel_size,kernel_size), 1)\n",
    "    \n",
    "    return img_gaussian, img_copy"
   ]
  },
  {
   "cell_type": "markdown",
   "id": "dc308c71",
   "metadata": {},
   "source": [
    "### 2) Largest Contour Detection"
   ]
  },
  {
   "cell_type": "code",
   "execution_count": 3,
   "id": "b671b8d5",
   "metadata": {},
   "outputs": [],
   "source": [
    "def largest_contour_detect(images):\n",
    "    # Find contours\n",
    "    _, image = cv.threshold(images, 200, 255, cv.THRESH_TOZERO)\n",
    "    contours, hierarchy = cv.findContours(image, cv.RETR_TREE, cv.CHAIN_APPROX_SIMPLE)\n",
    "    \n",
    "    # Contour List\n",
    "    cnt_list = np.zeros(len(contours))\n",
    "    for i in range(0,len(contours)):\n",
    "        cnt_list[i] = cv.contourArea(contours[i])\n",
    "        \n",
    "    # Find largest contour\n",
    "    largest_contour_index = np.argmax(cnt_list)\n",
    "    largest_contour = contours[largest_contour_index]\n",
    "    contour_mask = np.zeros(image.shape, dtype = np.uint8)\n",
    "    \n",
    "    # Draw Contour\n",
    "    if len(contours) != 0:\n",
    "        cv.drawContours(contour_mask, contours, largest_contour_index, (255,255,255), -1)\n",
    "        \n",
    "    return image, largest_contour, contour_mask"
   ]
  },
  {
   "cell_type": "markdown",
   "id": "2d9e32a8",
   "metadata": {},
   "source": [
    "### 3) Bounding Box Detection"
   ]
  },
  {
   "cell_type": "code",
   "execution_count": 4,
   "id": "1e46ddc7",
   "metadata": {},
   "outputs": [],
   "source": [
    "def bounding_box(image, largest_contour):\n",
    "    bounding_box = image.copy()\n",
    "    x,y,w,h = cv.boundingRect(largest_contour)\n",
    "    cv.rectangle(bounding_box,(x,y),(x+w,y+h),(0,255,0),2)\n",
    "    \n",
    "    return bounding_box"
   ]
  },
  {
   "cell_type": "markdown",
   "id": "4e057179",
   "metadata": {},
   "source": [
    "### 4) Image Segmentation\n",
    "- **HSV Color segmentation**: To segment out blue color\n",
    "\n",
    "- **Canny Edge Detection**: To detect the edge of traffic sign in mask\n",
    "\n",
    "- **Morphological Prpcessing**\n",
    "    - **Dilation** : To expand inside white region\n",
    "    - **Erosion** : To decrease outside white region"
   ]
  },
  {
   "cell_type": "code",
   "execution_count": 5,
   "id": "48eb7f7a",
   "metadata": {},
   "outputs": [],
   "source": [
    "def img_segmentation(image):\n",
    "    # Go to the Bllue Traffic Sign Image folder\n",
    "    path = os.getcwd() + '\\\\Blue Traffic Signs\\\\'\n",
    "    \n",
    "    # set Blue range and variable\n",
    "    blue_low, blue_high = (90, 60, 10), (135, 255, 255)\n",
    "    kernel = np.ones((3,3), np.uint8)\n",
    "    \n",
    "    ## Input image\n",
    "    # load image\n",
    "    image_ori = cv.imread(path + image)\n",
    "\n",
    "    ## Image Preprocessing\n",
    "    img, img_copy = img_preprocessing(image_ori, 300)\n",
    "    \n",
    "    # HSV color segmentation\n",
    "    img_hsv = cv.cvtColor(img, cv.COLOR_BGR2HSV)\n",
    "    \n",
    "    # Blue mask\n",
    "    mask = cv.inRange(img_hsv, blue_low, blue_high)\n",
    "    \n",
    "    # Canny edge detection\n",
    "    img_canny = cv.Canny(mask, 50, 100)\n",
    "    \n",
    "    # Morphological Prpcessing\n",
    "    img_Dil = cv.dilate(img_canny, kernel, iterations = 1)\n",
    "    img_Ero = cv.erode(img_Dil, kernel, iterations = 1)\n",
    "    \n",
    "    # Find largest contour detection\n",
    "    image, largest_contour, contour_mask = largest_contour_detect(img_Ero)\n",
    "    \n",
    "    # Bounding box detection\n",
    "    img_bounding_box = bounding_box(img, largest_contour)\n",
    "    \n",
    "    ## Output image\n",
    "    # Result\n",
    "    hsv_mask = np.stack((mask,)*3, axis=-1)\n",
    "    img_canny = np.stack((img_canny,)*3, axis=-1)\n",
    "    seg_img = cv.bitwise_and(img_copy, img_copy, mask = contour_mask)\n",
    "    final_mask = np.stack((contour_mask,)*3, axis=-1)\n",
    "    combine = np.concatenate((img, hsv_mask, img_canny, final_mask, img_bounding_box, seg_img), axis = 1)\n",
    "    combine = cv.resize(combine, (1050,150), interpolation = cv.INTER_CUBIC)\n",
    "\n",
    "    #display image\n",
    "    cv.imshow('Result', combine)\n",
    "\n",
    "    cv.waitKey(0)\n",
    "    cv.destroyAllWindows()"
   ]
  },
  {
   "cell_type": "markdown",
   "id": "4b61cda9",
   "metadata": {},
   "source": [
    "## Segmentation Result"
   ]
  },
  {
   "cell_type": "code",
   "execution_count": 6,
   "id": "8623fd5e",
   "metadata": {},
   "outputs": [],
   "source": [
    "img_segmentation('020_1_0005.png')"
   ]
  },
  {
   "cell_type": "code",
   "execution_count": null,
   "id": "7f4efaeb",
   "metadata": {},
   "outputs": [],
   "source": []
  }
 ],
 "metadata": {
  "kernelspec": {
   "display_name": "Python 3 (ipykernel)",
   "language": "python",
   "name": "python3"
  },
  "language_info": {
   "codemirror_mode": {
    "name": "ipython",
    "version": 3
   },
   "file_extension": ".py",
   "mimetype": "text/x-python",
   "name": "python",
   "nbconvert_exporter": "python",
   "pygments_lexer": "ipython3",
   "version": "3.9.12"
  }
 },
 "nbformat": 4,
 "nbformat_minor": 5
}
